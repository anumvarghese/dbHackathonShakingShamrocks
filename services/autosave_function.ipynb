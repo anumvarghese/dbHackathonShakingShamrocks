{
 "cells": [
  {
   "cell_type": "code",
   "execution_count": 3,
   "id": "mexican-majority",
   "metadata": {},
   "outputs": [],
   "source": [
    "import pandas as pd"
   ]
  },
  {
   "cell_type": "code",
   "execution_count": 4,
   "id": "innocent-tiger",
   "metadata": {},
   "outputs": [],
   "source": [
    "def reg_pay_id(df):\n",
    "    \"\"\"\n",
    "    Returns dict showing regular creditors along with average gaps between payments and average amounts.\n",
    "    Can be used to generate suggestions for auto-saving pots of money for specific purposes.\n",
    "    \"\"\"\n",
    "    df['dates'] = pd.to_datetime(df['dates'])\n",
    "        \n",
    "    df = df.reset_index()    \n",
    "    main_dict = {}\n",
    "    for party in list(df['other_account_name'].value_counts().index):\n",
    "        temp_df = df[df['other_account_name'] == party].copy()\n",
    "        temp_df['time_since_last_trans_party'] = temp_df['dates'] - temp_df['dates'].shift()        \n",
    "        temp_df = temp_df.reset_index()\n",
    "        pos_dict = pd.Series(temp_df['time_since_last_trans_party'].values, index = temp_df['index'])\n",
    "        main_dict.update(pos_dict)\n",
    "    df['time_since_last_trans_party'] = df['index'].map(main_dict)    \n",
    "    \n",
    "    # Select only Regular payments - can be changed to use cluster tag\n",
    "    df_reg = df.loc[df['Type'] == 'Regular']\n",
    "    parties = df_reg['other_account_name'].unique()\n",
    "    reg_dict = {}\n",
    "    for party in parties:    \n",
    "        df_p = df_reg.loc[df_reg['other_account_name'] == party]\n",
    "        gaps = list(df_p['time_since_last_trans_party'].value_counts().index)                \n",
    "        if len(gaps) > 0:\n",
    "            gaps = [x.days for x in gaps if len(gaps) > 0]           \n",
    "            avg_gap = int(sum(gaps)/len(gaps))        \n",
    "        else:\n",
    "            avg_gap = None\n",
    "        \n",
    "        amounts = list(df_p['amount'].value_counts().index)  \n",
    "        amounts = [float(x) for x in amounts]\n",
    "        avg_amount = sum(amounts)/len(amounts)        \n",
    "        \n",
    "        reg_dict.update({party:[avg_gap,round(avg_amount,2)]})\n",
    "        \n",
    "    return reg_dict"
   ]
  },
  {
   "cell_type": "code",
   "execution_count": 5,
   "id": "flush-render",
   "metadata": {},
   "outputs": [],
   "source": [
    "df = pd.read_csv('gs://shakingshamrocks_eu/test_data_3_sec.csv')"
   ]
  },
  {
   "cell_type": "code",
   "execution_count": 6,
   "id": "developmental-kingston",
   "metadata": {},
   "outputs": [],
   "source": [
    "# Drop first column (index)\n",
    "df = df.drop(df.columns[0],axis = 1)"
   ]
  },
  {
   "cell_type": "code",
   "execution_count": 7,
   "id": "effective-egyptian",
   "metadata": {},
   "outputs": [
    {
     "data": {
      "text/plain": [
       "{'Wages MyOrg': [14, 2450.0],\n",
       " 'Medical Subscription': [14, -115.0],\n",
       " 'Medical Session': [29, -200.0],\n",
       " 'Car': [14, -290.0],\n",
       " 'Utilities': [29, -242.36],\n",
       " 'Rent - apt 12': [14, -1350.0],\n",
       " 'Phone': [14, -19.0],\n",
       " 'Subscription': [14, -52.5]}"
      ]
     },
     "execution_count": 7,
     "metadata": {},
     "output_type": "execute_result"
    }
   ],
   "source": [
    "reg_pay_id(df)"
   ]
  },
  {
   "cell_type": "code",
   "execution_count": null,
   "id": "shared-trailer",
   "metadata": {},
   "outputs": [],
   "source": []
  },
  {
   "cell_type": "code",
   "execution_count": null,
   "id": "threaded-slovakia",
   "metadata": {},
   "outputs": [],
   "source": []
  },
  {
   "cell_type": "code",
   "execution_count": null,
   "id": "indirect-impossible",
   "metadata": {},
   "outputs": [],
   "source": []
  },
  {
   "cell_type": "code",
   "execution_count": null,
   "id": "organic-implement",
   "metadata": {},
   "outputs": [],
   "source": []
  }
 ],
 "metadata": {
  "environment": {
   "name": "common-cpu.mnightly-2021-02-12-debian-10-test",
   "type": "gcloud",
   "uri": "gcr.io/deeplearning-platform-release/base-cpu:mnightly-2021-02-12-debian-10-test"
  },
  "kernelspec": {
   "display_name": "Python 3",
   "language": "python",
   "name": "python3"
  },
  "language_info": {
   "codemirror_mode": {
    "name": "ipython",
    "version": 3
   },
   "file_extension": ".py",
   "mimetype": "text/x-python",
   "name": "python",
   "nbconvert_exporter": "python",
   "pygments_lexer": "ipython3",
   "version": "3.7.9"
  }
 },
 "nbformat": 4,
 "nbformat_minor": 5
}
